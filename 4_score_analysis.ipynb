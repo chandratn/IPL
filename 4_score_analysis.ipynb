{
 "cells": [
  {
   "cell_type": "markdown",
   "metadata": {},
   "source": [
    "# IPL Match Score Analysis"
   ]
  },
  {
   "cell_type": "code",
   "execution_count": 27,
   "metadata": {},
   "outputs": [],
   "source": [
    "##importing the required libraries\n",
    "import numpy as np\n",
    "import pandas as pd\n",
    "import matplotlib.pyplot as plt\n",
    "\n",
    "import warnings\n",
    "warnings.filterwarnings('ignore')"
   ]
  },
  {
   "cell_type": "code",
   "execution_count": 28,
   "metadata": {},
   "outputs": [],
   "source": [
    "##loading the csv files into dataframes\n",
    "df = pd.read_excel(\"./ipl_data/IPL2018_results.xlsx\")"
   ]
  },
  {
   "cell_type": "code",
   "execution_count": 29,
   "metadata": {},
   "outputs": [],
   "source": [
    "# !pip install openpyxl"
   ]
  },
  {
   "cell_type": "code",
   "execution_count": 30,
   "metadata": {},
   "outputs": [
    {
     "data": {
      "text/html": [
       "<div>\n",
       "<style scoped>\n",
       "    .dataframe tbody tr th:only-of-type {\n",
       "        vertical-align: middle;\n",
       "    }\n",
       "\n",
       "    .dataframe tbody tr th {\n",
       "        vertical-align: top;\n",
       "    }\n",
       "\n",
       "    .dataframe thead th {\n",
       "        text-align: right;\n",
       "    }\n",
       "</style>\n",
       "<table border=\"1\" class=\"dataframe\">\n",
       "  <thead>\n",
       "    <tr style=\"text-align: right;\">\n",
       "      <th></th>\n",
       "      <th>scorecard_id</th>\n",
       "      <th>start_date</th>\n",
       "      <th>phase</th>\n",
       "      <th>stadium_name</th>\n",
       "      <th>home_team</th>\n",
       "      <th>away_team</th>\n",
       "      <th>toss_winner</th>\n",
       "      <th>toss_decision</th>\n",
       "      <th>innings1</th>\n",
       "      <th>wickets1</th>\n",
       "      <th>...</th>\n",
       "      <th>adjusted_target_indicator</th>\n",
       "      <th>adjusted_target</th>\n",
       "      <th>team1_overs</th>\n",
       "      <th>team2_overs</th>\n",
       "      <th>mom_player_id</th>\n",
       "      <th>mom_player</th>\n",
       "      <th>scoring_status</th>\n",
       "      <th>result_type</th>\n",
       "      <th>result_margin</th>\n",
       "      <th>winning_team</th>\n",
       "    </tr>\n",
       "  </thead>\n",
       "  <tbody>\n",
       "    <tr>\n",
       "      <th>0</th>\n",
       "      <td>1056637</td>\n",
       "      <td>43197</td>\n",
       "      <td>NaN</td>\n",
       "      <td>Wankhede Stadium, Mumbai</td>\n",
       "      <td>Mumbai Indians</td>\n",
       "      <td>Chennai Super Kings</td>\n",
       "      <td>Chennai Super Kings</td>\n",
       "      <td>f</td>\n",
       "      <td>165</td>\n",
       "      <td>4</td>\n",
       "      <td>...</td>\n",
       "      <td>n</td>\n",
       "      <td>0</td>\n",
       "      <td>20.0</td>\n",
       "      <td>20</td>\n",
       "      <td>44613</td>\n",
       "      <td>DJ Bravo</td>\n",
       "      <td>live bbb</td>\n",
       "      <td>ww</td>\n",
       "      <td>1</td>\n",
       "      <td>Chennai Super Kings</td>\n",
       "    </tr>\n",
       "    <tr>\n",
       "      <th>1</th>\n",
       "      <td>1056638</td>\n",
       "      <td>43198</td>\n",
       "      <td>NaN</td>\n",
       "      <td>Punjab Cricket Association Stadium, Mohali</td>\n",
       "      <td>Kings XI Punjab</td>\n",
       "      <td>Delhi Daredevils</td>\n",
       "      <td>Kings XI Punjab</td>\n",
       "      <td>f</td>\n",
       "      <td>166</td>\n",
       "      <td>7</td>\n",
       "      <td>...</td>\n",
       "      <td>n</td>\n",
       "      <td>0</td>\n",
       "      <td>20.0</td>\n",
       "      <td>20</td>\n",
       "      <td>170187</td>\n",
       "      <td>KL Rahul</td>\n",
       "      <td>live bbb</td>\n",
       "      <td>ww</td>\n",
       "      <td>6</td>\n",
       "      <td>Kings XI Punjab</td>\n",
       "    </tr>\n",
       "    <tr>\n",
       "      <th>2</th>\n",
       "      <td>1056639</td>\n",
       "      <td>43198</td>\n",
       "      <td>NaN</td>\n",
       "      <td>Eden Gardens, Kolkata</td>\n",
       "      <td>Kolkata Knight Riders</td>\n",
       "      <td>Royal Challengers Bangalore</td>\n",
       "      <td>Kolkata Knight Riders</td>\n",
       "      <td>f</td>\n",
       "      <td>176</td>\n",
       "      <td>7</td>\n",
       "      <td>...</td>\n",
       "      <td>n</td>\n",
       "      <td>0</td>\n",
       "      <td>20.0</td>\n",
       "      <td>20</td>\n",
       "      <td>412485</td>\n",
       "      <td>N Rana</td>\n",
       "      <td>live bbb</td>\n",
       "      <td>ww</td>\n",
       "      <td>4</td>\n",
       "      <td>Kolkata Knight Riders</td>\n",
       "    </tr>\n",
       "    <tr>\n",
       "      <th>3</th>\n",
       "      <td>1056640</td>\n",
       "      <td>43199</td>\n",
       "      <td>NaN</td>\n",
       "      <td>Rajiv Gandhi International Stadium, Uppal, Hyd...</td>\n",
       "      <td>Sunrisers</td>\n",
       "      <td>Rajasthan Royals</td>\n",
       "      <td>Sunrisers</td>\n",
       "      <td>f</td>\n",
       "      <td>125</td>\n",
       "      <td>9</td>\n",
       "      <td>...</td>\n",
       "      <td>n</td>\n",
       "      <td>0</td>\n",
       "      <td>20.0</td>\n",
       "      <td>20</td>\n",
       "      <td>15627</td>\n",
       "      <td>S Dhawan</td>\n",
       "      <td>live bbb</td>\n",
       "      <td>ww</td>\n",
       "      <td>9</td>\n",
       "      <td>Sunrisers</td>\n",
       "    </tr>\n",
       "    <tr>\n",
       "      <th>4</th>\n",
       "      <td>1056641</td>\n",
       "      <td>43200</td>\n",
       "      <td>NaN</td>\n",
       "      <td>MA Chidambaram Stadium, Chepauk, Chennai</td>\n",
       "      <td>Chennai Super Kings</td>\n",
       "      <td>Kolkata Knight Riders</td>\n",
       "      <td>Chennai Super Kings</td>\n",
       "      <td>f</td>\n",
       "      <td>202</td>\n",
       "      <td>6</td>\n",
       "      <td>...</td>\n",
       "      <td>n</td>\n",
       "      <td>0</td>\n",
       "      <td>20.0</td>\n",
       "      <td>20</td>\n",
       "      <td>119895</td>\n",
       "      <td>SW Billings</td>\n",
       "      <td>live bbb</td>\n",
       "      <td>ww</td>\n",
       "      <td>5</td>\n",
       "      <td>Chennai Super Kings</td>\n",
       "    </tr>\n",
       "  </tbody>\n",
       "</table>\n",
       "<p>5 rows × 26 columns</p>\n",
       "</div>"
      ],
      "text/plain": [
       "   scorecard_id  start_date phase  \\\n",
       "0       1056637       43197   NaN   \n",
       "1       1056638       43198   NaN   \n",
       "2       1056639       43198   NaN   \n",
       "3       1056640       43199   NaN   \n",
       "4       1056641       43200   NaN   \n",
       "\n",
       "                                        stadium_name              home_team  \\\n",
       "0                           Wankhede Stadium, Mumbai         Mumbai Indians   \n",
       "1         Punjab Cricket Association Stadium, Mohali        Kings XI Punjab   \n",
       "2                              Eden Gardens, Kolkata  Kolkata Knight Riders   \n",
       "3  Rajiv Gandhi International Stadium, Uppal, Hyd...              Sunrisers   \n",
       "4           MA Chidambaram Stadium, Chepauk, Chennai    Chennai Super Kings   \n",
       "\n",
       "                     away_team            toss_winner toss_decision  innings1  \\\n",
       "0          Chennai Super Kings    Chennai Super Kings             f       165   \n",
       "1             Delhi Daredevils        Kings XI Punjab             f       166   \n",
       "2  Royal Challengers Bangalore  Kolkata Knight Riders             f       176   \n",
       "3             Rajasthan Royals              Sunrisers             f       125   \n",
       "4        Kolkata Knight Riders    Chennai Super Kings             f       202   \n",
       "\n",
       "   wickets1  ...  adjusted_target_indicator adjusted_target  team1_overs  \\\n",
       "0         4  ...                          n               0         20.0   \n",
       "1         7  ...                          n               0         20.0   \n",
       "2         7  ...                          n               0         20.0   \n",
       "3         9  ...                          n               0         20.0   \n",
       "4         6  ...                          n               0         20.0   \n",
       "\n",
       "   team2_overs  mom_player_id   mom_player scoring_status  result_type  \\\n",
       "0           20          44613     DJ Bravo       live bbb           ww   \n",
       "1           20         170187     KL Rahul       live bbb           ww   \n",
       "2           20         412485       N Rana       live bbb           ww   \n",
       "3           20          15627     S Dhawan       live bbb           ww   \n",
       "4           20         119895  SW Billings       live bbb           ww   \n",
       "\n",
       "   result_margin           winning_team  \n",
       "0              1    Chennai Super Kings  \n",
       "1              6        Kings XI Punjab  \n",
       "2              4  Kolkata Knight Riders  \n",
       "3              9              Sunrisers  \n",
       "4              5    Chennai Super Kings  \n",
       "\n",
       "[5 rows x 26 columns]"
      ]
     },
     "execution_count": 30,
     "metadata": {},
     "output_type": "execute_result"
    }
   ],
   "source": [
    "df.head()"
   ]
  },
  {
   "cell_type": "markdown",
   "metadata": {},
   "source": [
    "## The distribution of runs scored\n",
    "\n",
    "- We are interested in are the runs scored by each team, which are listed in \"innings1\" and \"innings2\". \n",
    "- A histogram will show us the variation of runs scored. \n",
    "- We specify the number of 'bins' - we use 10 bins here, which divides the data between the highest and lowest scores into ten equals ranges of 16 (80-240) runs. \n",
    "- The vertical axis then tells us the frequency of scores in innings1 in each data range."
   ]
  },
  {
   "cell_type": "code",
   "execution_count": 31,
   "metadata": {},
   "outputs": [
    {
     "data": {
      "text/plain": [
       "array([[<AxesSubplot:title={'center':'innings1'}>]], dtype=object)"
      ]
     },
     "execution_count": 31,
     "metadata": {},
     "output_type": "execute_result"
    },
    {
     "data": {
      "image/png": "[encoded data removed]",
      "text/plain": [
       "<Figure size 432x288 with 1 Axes>"
      ]
     },
     "metadata": {
      "needs_background": "light"
     },
     "output_type": "display_data"
    }
   ],
   "source": [
    "## score distribution when batting first\n",
    "df.hist(column='innings1', bins=10)"
   ]
  },
  {
   "cell_type": "code",
   "execution_count": 32,
   "metadata": {},
   "outputs": [
    {
     "data": {
      "text/plain": [
       "array([[<AxesSubplot:title={'center':'innings2'}>]], dtype=object)"
      ]
     },
     "execution_count": 32,
     "metadata": {},
     "output_type": "execute_result"
    },
    {
     "data": {
      "image/png": "[encoded data removed]",
      "text/plain": [
       "<Figure size 432x288 with 1 Axes>"
      ]
     },
     "metadata": {
      "needs_background": "light"
     },
     "output_type": "display_data"
    }
   ],
   "source": [
    "## score distribution when batting second\n",
    "df.hist(column='innings2', bins=10)"
   ]
  },
  {
   "cell_type": "markdown",
   "metadata": {},
   "source": [
    "- Scores in innings1 are skewed slightly to the left, and in innings2 slightly to the right. \n",
    "- **CATCH**: The x-axis for innings1 runs from 80 to 240, while for innings2 runs from 60 to 220. \n",
    "- To compare, the x-axis should have the same range for both sets of data."
   ]
  },
  {
   "cell_type": "code",
   "execution_count": 33,
   "metadata": {},
   "outputs": [
    {
     "data": {
      "text/plain": [
       "<function matplotlib.pyplot.plot(*args, scalex=True, scaley=True, data=None, **kwargs)>"
      ]
     },
     "execution_count": 33,
     "metadata": {},
     "output_type": "execute_result"
    },
    {
     "data": {
      "image/png": "[encoded data removed]",
      "text/plain": [
       "<Figure size 432x288 with 1 Axes>"
      ]
     },
     "metadata": {
      "needs_background": "light"
     },
     "output_type": "display_data"
    },
    {
     "data": {
      "image/png": "[encoded data removed]",
      "text/plain": [
       "<Figure size 432x288 with 1 Axes>"
      ]
     },
     "metadata": {
      "needs_background": "light"
     },
     "output_type": "display_data"
    }
   ],
   "source": [
    "df.hist(column='innings1', bins=10)\n",
    "\n",
    "##setting same limits for the X-axis\n",
    "plt.xlim((60, 250))\n",
    "plt.ylim((0, 20))\n",
    "\n",
    "##innings 2\n",
    "df.hist(column='innings2', bins=10)\n",
    "\n",
    "##setting same limits for the X-axis\n",
    "plt.xlim((60, 250))\n",
    "plt.ylim((0, 20))\n",
    "plt.plot"
   ]
  },
  {
   "cell_type": "markdown",
   "metadata": {},
   "source": [
    "- The two innings have quite similar distributions centered around roughly the same median score. \n",
    "- The two main differences are that the scores for innings2 seem truncated around the 200-215 mark. \n",
    "\n",
    "**Potential inference**: That is probably a result of the run chase effect - teams batting second either reach the required target and stop, or the target set in the first place was so high that the team batting second collapsed with a very low score."
   ]
  },
  {
   "cell_type": "code",
   "execution_count": 34,
   "metadata": {},
   "outputs": [
    {
     "data": {
      "text/plain": [
       "(0.0, 20.0)"
      ]
     },
     "execution_count": 34,
     "metadata": {},
     "output_type": "execute_result"
    },
    {
     "data": {
      "image/png": "[encoded data removed]",
      "text/plain": [
       "<Figure size 432x288 with 1 Axes>"
      ]
     },
     "metadata": {
      "needs_background": "light"
     },
     "output_type": "display_data"
    }
   ],
   "source": [
    "## plotting both innings on the same plot\n",
    "df[['innings1','innings2']].plot.hist(alpha=.5,bins=10)\n",
    "plt.xlabel('Runs')\n",
    "plt.ylabel('Frequency')\n",
    "plt.title(\"Score distribution by innings\", fontsize=15)\n",
    "plt.xlim((60, 250))\n",
    "plt.ylim((0, 20))"
   ]
  },
  {
   "cell_type": "markdown",
   "metadata": {},
   "source": [
    "## Distribution of runs scored by winning and losing teams"
   ]
  },
  {
   "cell_type": "code",
   "execution_count": 35,
   "metadata": {},
   "outputs": [
    {
     "data": {
      "text/html": [
       "<div>\n",
       "<style scoped>\n",
       "    .dataframe tbody tr th:only-of-type {\n",
       "        vertical-align: middle;\n",
       "    }\n",
       "\n",
       "    .dataframe tbody tr th {\n",
       "        vertical-align: top;\n",
       "    }\n",
       "\n",
       "    .dataframe thead th {\n",
       "        text-align: right;\n",
       "    }\n",
       "</style>\n",
       "<table border=\"1\" class=\"dataframe\">\n",
       "  <thead>\n",
       "    <tr style=\"text-align: right;\">\n",
       "      <th></th>\n",
       "      <th>scorecard_id</th>\n",
       "      <th>start_date</th>\n",
       "      <th>phase</th>\n",
       "      <th>stadium_name</th>\n",
       "      <th>home_team</th>\n",
       "      <th>away_team</th>\n",
       "      <th>toss_winner</th>\n",
       "      <th>toss_decision</th>\n",
       "      <th>innings1</th>\n",
       "      <th>wickets1</th>\n",
       "      <th>...</th>\n",
       "      <th>team1_overs</th>\n",
       "      <th>team2_overs</th>\n",
       "      <th>mom_player_id</th>\n",
       "      <th>mom_player</th>\n",
       "      <th>scoring_status</th>\n",
       "      <th>result_type</th>\n",
       "      <th>result_margin</th>\n",
       "      <th>winning_team</th>\n",
       "      <th>winscore</th>\n",
       "      <th>losescore</th>\n",
       "    </tr>\n",
       "  </thead>\n",
       "  <tbody>\n",
       "    <tr>\n",
       "      <th>0</th>\n",
       "      <td>1056637</td>\n",
       "      <td>43197</td>\n",
       "      <td>NaN</td>\n",
       "      <td>Wankhede Stadium, Mumbai</td>\n",
       "      <td>Mumbai Indians</td>\n",
       "      <td>Chennai Super Kings</td>\n",
       "      <td>Chennai Super Kings</td>\n",
       "      <td>f</td>\n",
       "      <td>165</td>\n",
       "      <td>4</td>\n",
       "      <td>...</td>\n",
       "      <td>20.0</td>\n",
       "      <td>20</td>\n",
       "      <td>44613</td>\n",
       "      <td>DJ Bravo</td>\n",
       "      <td>live bbb</td>\n",
       "      <td>ww</td>\n",
       "      <td>1</td>\n",
       "      <td>Chennai Super Kings</td>\n",
       "      <td>169</td>\n",
       "      <td>165</td>\n",
       "    </tr>\n",
       "    <tr>\n",
       "      <th>1</th>\n",
       "      <td>1056638</td>\n",
       "      <td>43198</td>\n",
       "      <td>NaN</td>\n",
       "      <td>Punjab Cricket Association Stadium, Mohali</td>\n",
       "      <td>Kings XI Punjab</td>\n",
       "      <td>Delhi Daredevils</td>\n",
       "      <td>Kings XI Punjab</td>\n",
       "      <td>f</td>\n",
       "      <td>166</td>\n",
       "      <td>7</td>\n",
       "      <td>...</td>\n",
       "      <td>20.0</td>\n",
       "      <td>20</td>\n",
       "      <td>170187</td>\n",
       "      <td>KL Rahul</td>\n",
       "      <td>live bbb</td>\n",
       "      <td>ww</td>\n",
       "      <td>6</td>\n",
       "      <td>Kings XI Punjab</td>\n",
       "      <td>167</td>\n",
       "      <td>166</td>\n",
       "    </tr>\n",
       "    <tr>\n",
       "      <th>2</th>\n",
       "      <td>1056639</td>\n",
       "      <td>43198</td>\n",
       "      <td>NaN</td>\n",
       "      <td>Eden Gardens, Kolkata</td>\n",
       "      <td>Kolkata Knight Riders</td>\n",
       "      <td>Royal Challengers Bangalore</td>\n",
       "      <td>Kolkata Knight Riders</td>\n",
       "      <td>f</td>\n",
       "      <td>176</td>\n",
       "      <td>7</td>\n",
       "      <td>...</td>\n",
       "      <td>20.0</td>\n",
       "      <td>20</td>\n",
       "      <td>412485</td>\n",
       "      <td>N Rana</td>\n",
       "      <td>live bbb</td>\n",
       "      <td>ww</td>\n",
       "      <td>4</td>\n",
       "      <td>Kolkata Knight Riders</td>\n",
       "      <td>177</td>\n",
       "      <td>176</td>\n",
       "    </tr>\n",
       "    <tr>\n",
       "      <th>3</th>\n",
       "      <td>1056640</td>\n",
       "      <td>43199</td>\n",
       "      <td>NaN</td>\n",
       "      <td>Rajiv Gandhi International Stadium, Uppal, Hyd...</td>\n",
       "      <td>Sunrisers</td>\n",
       "      <td>Rajasthan Royals</td>\n",
       "      <td>Sunrisers</td>\n",
       "      <td>f</td>\n",
       "      <td>125</td>\n",
       "      <td>9</td>\n",
       "      <td>...</td>\n",
       "      <td>20.0</td>\n",
       "      <td>20</td>\n",
       "      <td>15627</td>\n",
       "      <td>S Dhawan</td>\n",
       "      <td>live bbb</td>\n",
       "      <td>ww</td>\n",
       "      <td>9</td>\n",
       "      <td>Sunrisers</td>\n",
       "      <td>127</td>\n",
       "      <td>125</td>\n",
       "    </tr>\n",
       "    <tr>\n",
       "      <th>4</th>\n",
       "      <td>1056641</td>\n",
       "      <td>43200</td>\n",
       "      <td>NaN</td>\n",
       "      <td>MA Chidambaram Stadium, Chepauk, Chennai</td>\n",
       "      <td>Chennai Super Kings</td>\n",
       "      <td>Kolkata Knight Riders</td>\n",
       "      <td>Chennai Super Kings</td>\n",
       "      <td>f</td>\n",
       "      <td>202</td>\n",
       "      <td>6</td>\n",
       "      <td>...</td>\n",
       "      <td>20.0</td>\n",
       "      <td>20</td>\n",
       "      <td>119895</td>\n",
       "      <td>SW Billings</td>\n",
       "      <td>live bbb</td>\n",
       "      <td>ww</td>\n",
       "      <td>5</td>\n",
       "      <td>Chennai Super Kings</td>\n",
       "      <td>205</td>\n",
       "      <td>202</td>\n",
       "    </tr>\n",
       "  </tbody>\n",
       "</table>\n",
       "<p>5 rows × 28 columns</p>\n",
       "</div>"
      ],
      "text/plain": [
       "   scorecard_id  start_date phase  \\\n",
       "0       1056637       43197   NaN   \n",
       "1       1056638       43198   NaN   \n",
       "2       1056639       43198   NaN   \n",
       "3       1056640       43199   NaN   \n",
       "4       1056641       43200   NaN   \n",
       "\n",
       "                                        stadium_name              home_team  \\\n",
       "0                           Wankhede Stadium, Mumbai         Mumbai Indians   \n",
       "1         Punjab Cricket Association Stadium, Mohali        Kings XI Punjab   \n",
       "2                              Eden Gardens, Kolkata  Kolkata Knight Riders   \n",
       "3  Rajiv Gandhi International Stadium, Uppal, Hyd...              Sunrisers   \n",
       "4           MA Chidambaram Stadium, Chepauk, Chennai    Chennai Super Kings   \n",
       "\n",
       "                     away_team            toss_winner toss_decision  innings1  \\\n",
       "0          Chennai Super Kings    Chennai Super Kings             f       165   \n",
       "1             Delhi Daredevils        Kings XI Punjab             f       166   \n",
       "2  Royal Challengers Bangalore  Kolkata Knight Riders             f       176   \n",
       "3             Rajasthan Royals              Sunrisers             f       125   \n",
       "4        Kolkata Knight Riders    Chennai Super Kings             f       202   \n",
       "\n",
       "   wickets1  ...  team1_overs team2_overs  mom_player_id   mom_player  \\\n",
       "0         4  ...         20.0          20          44613     DJ Bravo   \n",
       "1         7  ...         20.0          20         170187     KL Rahul   \n",
       "2         7  ...         20.0          20         412485       N Rana   \n",
       "3         9  ...         20.0          20          15627     S Dhawan   \n",
       "4         6  ...         20.0          20         119895  SW Billings   \n",
       "\n",
       "   scoring_status result_type result_margin           winning_team  winscore  \\\n",
       "0        live bbb          ww             1    Chennai Super Kings       169   \n",
       "1        live bbb          ww             6        Kings XI Punjab       167   \n",
       "2        live bbb          ww             4  Kolkata Knight Riders       177   \n",
       "3        live bbb          ww             9              Sunrisers       127   \n",
       "4        live bbb          ww             5    Chennai Super Kings       205   \n",
       "\n",
       "   losescore  \n",
       "0        165  \n",
       "1        166  \n",
       "2        176  \n",
       "3        125  \n",
       "4        202  \n",
       "\n",
       "[5 rows x 28 columns]"
      ]
     },
     "execution_count": 35,
     "metadata": {},
     "output_type": "execute_result"
    }
   ],
   "source": [
    "## comparing the histograms for winners and losers\n",
    "\n",
    "## segregating the win score from innings 1 & 2\n",
    "df['winscore']= np.where(df['innings1'] > df['innings2'], df['innings1'], df['innings2'])\n",
    "\n",
    "## segregating the lose score from innings 1 & 2 \n",
    "df['losescore'] = np.where(df['innings1'] > df['innings2'], df['innings2'], df['innings1'])\n",
    "\n",
    "df.head()"
   ]
  },
  {
   "cell_type": "code",
   "execution_count": 36,
   "metadata": {},
   "outputs": [
    {
     "data": {
      "text/plain": [
       "(0.0, 20.0)"
      ]
     },
     "execution_count": 36,
     "metadata": {},
     "output_type": "execute_result"
    },
    {
     "data": {
      "image/png": "[encoded data removed]",
      "text/plain": [
       "<Figure size 432x288 with 1 Axes>"
      ]
     },
     "metadata": {
      "needs_background": "light"
     },
     "output_type": "display_data"
    }
   ],
   "source": [
    "# Now we can plot two histograms together\n",
    "\n",
    "df[['winscore','losescore']].plot.hist(alpha=.5,bins=10)\n",
    "plt.xlabel('Runs')\n",
    "plt.ylabel('Frequency')\n",
    "plt.title(\"Scores distribution by innings\", fontsize=15)\n",
    "plt.xlim((60, 250))\n",
    "plt.ylim((0, 20))"
   ]
  },
  {
   "cell_type": "markdown",
   "metadata": {},
   "source": [
    "### Difference in distribution:\n",
    "- Winning score appears like a rightward shift of the losing score. Not surprising!!\n",
    "- For a low score, losing scores must outnumber winning scores, while for high scores, winning scores must outnumber losing scores.\n",
    "\n",
    "---\n",
    "---"
   ]
  },
  {
   "cell_type": "markdown",
   "metadata": {},
   "source": [
    "## Studying MI vs CSK match - When did MI lose the match?\n",
    "#### Run Accumulation and Wickets\n",
    "\n",
    "- The game is being played at Wankhede stadium.\n",
    "- Who won the toss? What does our venue analysis say?\n",
    "- Let's look at ball by ball data now."
   ]
  },
  {
   "cell_type": "code",
   "execution_count": 37,
   "metadata": {},
   "outputs": [
    {
     "name": "stdout",
     "output_type": "stream",
     "text": [
      "['MI_over_no', 'MI_ball_no', 'MI_runs_total_end', 'MI_delivery_no', 'MI_wicket', 'CSK_over_no', 'CSK_ball_no', 'CSK_runs_total_end', 'CSK_delivery_no', 'CSK_wicket']\n"
     ]
    },
    {
     "data": {
      "text/html": [
       "<div>\n",
       "<style scoped>\n",
       "    .dataframe tbody tr th:only-of-type {\n",
       "        vertical-align: middle;\n",
       "    }\n",
       "\n",
       "    .dataframe tbody tr th {\n",
       "        vertical-align: top;\n",
       "    }\n",
       "\n",
       "    .dataframe thead th {\n",
       "        text-align: right;\n",
       "    }\n",
       "</style>\n",
       "<table border=\"1\" class=\"dataframe\">\n",
       "  <thead>\n",
       "    <tr style=\"text-align: right;\">\n",
       "      <th></th>\n",
       "      <th>MI_over_no</th>\n",
       "      <th>MI_ball_no</th>\n",
       "      <th>MI_runs_total_end</th>\n",
       "      <th>MI_delivery_no</th>\n",
       "      <th>MI_wicket</th>\n",
       "      <th>CSK_over_no</th>\n",
       "      <th>CSK_ball_no</th>\n",
       "      <th>CSK_runs_total_end</th>\n",
       "      <th>CSK_delivery_no</th>\n",
       "      <th>CSK_wicket</th>\n",
       "    </tr>\n",
       "  </thead>\n",
       "  <tbody>\n",
       "    <tr>\n",
       "      <th>0</th>\n",
       "      <td>0.0</td>\n",
       "      <td>1.0</td>\n",
       "      <td>0.0</td>\n",
       "      <td>1.0</td>\n",
       "      <td>0.0</td>\n",
       "      <td>0</td>\n",
       "      <td>1</td>\n",
       "      <td>0</td>\n",
       "      <td>1</td>\n",
       "      <td>0</td>\n",
       "    </tr>\n",
       "    <tr>\n",
       "      <th>1</th>\n",
       "      <td>0.0</td>\n",
       "      <td>2.0</td>\n",
       "      <td>0.0</td>\n",
       "      <td>2.0</td>\n",
       "      <td>0.0</td>\n",
       "      <td>0</td>\n",
       "      <td>2</td>\n",
       "      <td>1</td>\n",
       "      <td>2</td>\n",
       "      <td>0</td>\n",
       "    </tr>\n",
       "    <tr>\n",
       "      <th>2</th>\n",
       "      <td>0.0</td>\n",
       "      <td>3.0</td>\n",
       "      <td>0.0</td>\n",
       "      <td>3.0</td>\n",
       "      <td>0.0</td>\n",
       "      <td>0</td>\n",
       "      <td>3</td>\n",
       "      <td>2</td>\n",
       "      <td>3</td>\n",
       "      <td>0</td>\n",
       "    </tr>\n",
       "    <tr>\n",
       "      <th>3</th>\n",
       "      <td>0.0</td>\n",
       "      <td>4.0</td>\n",
       "      <td>4.0</td>\n",
       "      <td>4.0</td>\n",
       "      <td>0.0</td>\n",
       "      <td>0</td>\n",
       "      <td>4</td>\n",
       "      <td>3</td>\n",
       "      <td>4</td>\n",
       "      <td>0</td>\n",
       "    </tr>\n",
       "    <tr>\n",
       "      <th>4</th>\n",
       "      <td>0.0</td>\n",
       "      <td>5.0</td>\n",
       "      <td>5.0</td>\n",
       "      <td>5.0</td>\n",
       "      <td>0.0</td>\n",
       "      <td>0</td>\n",
       "      <td>5</td>\n",
       "      <td>3</td>\n",
       "      <td>5</td>\n",
       "      <td>0</td>\n",
       "    </tr>\n",
       "    <tr>\n",
       "      <th>...</th>\n",
       "      <td>...</td>\n",
       "      <td>...</td>\n",
       "      <td>...</td>\n",
       "      <td>...</td>\n",
       "      <td>...</td>\n",
       "      <td>...</td>\n",
       "      <td>...</td>\n",
       "      <td>...</td>\n",
       "      <td>...</td>\n",
       "      <td>...</td>\n",
       "    </tr>\n",
       "    <tr>\n",
       "      <th>119</th>\n",
       "      <td>19.0</td>\n",
       "      <td>4.0</td>\n",
       "      <td>162.0</td>\n",
       "      <td>120.0</td>\n",
       "      <td>0.0</td>\n",
       "      <td>19</td>\n",
       "      <td>1</td>\n",
       "      <td>159</td>\n",
       "      <td>120</td>\n",
       "      <td>0</td>\n",
       "    </tr>\n",
       "    <tr>\n",
       "      <th>120</th>\n",
       "      <td>19.0</td>\n",
       "      <td>5.0</td>\n",
       "      <td>164.0</td>\n",
       "      <td>121.0</td>\n",
       "      <td>0.0</td>\n",
       "      <td>19</td>\n",
       "      <td>2</td>\n",
       "      <td>159</td>\n",
       "      <td>121</td>\n",
       "      <td>0</td>\n",
       "    </tr>\n",
       "    <tr>\n",
       "      <th>121</th>\n",
       "      <td>19.0</td>\n",
       "      <td>6.0</td>\n",
       "      <td>165.0</td>\n",
       "      <td>122.0</td>\n",
       "      <td>0.0</td>\n",
       "      <td>19</td>\n",
       "      <td>3</td>\n",
       "      <td>159</td>\n",
       "      <td>122</td>\n",
       "      <td>0</td>\n",
       "    </tr>\n",
       "    <tr>\n",
       "      <th>122</th>\n",
       "      <td>NaN</td>\n",
       "      <td>NaN</td>\n",
       "      <td>NaN</td>\n",
       "      <td>NaN</td>\n",
       "      <td>NaN</td>\n",
       "      <td>19</td>\n",
       "      <td>4</td>\n",
       "      <td>165</td>\n",
       "      <td>123</td>\n",
       "      <td>0</td>\n",
       "    </tr>\n",
       "    <tr>\n",
       "      <th>123</th>\n",
       "      <td>NaN</td>\n",
       "      <td>NaN</td>\n",
       "      <td>NaN</td>\n",
       "      <td>NaN</td>\n",
       "      <td>NaN</td>\n",
       "      <td>19</td>\n",
       "      <td>5</td>\n",
       "      <td>169</td>\n",
       "      <td>124</td>\n",
       "      <td>0</td>\n",
       "    </tr>\n",
       "  </tbody>\n",
       "</table>\n",
       "<p>124 rows × 10 columns</p>\n",
       "</div>"
      ],
      "text/plain": [
       "     MI_over_no  MI_ball_no  MI_runs_total_end  MI_delivery_no  MI_wicket  \\\n",
       "0           0.0         1.0                0.0             1.0        0.0   \n",
       "1           0.0         2.0                0.0             2.0        0.0   \n",
       "2           0.0         3.0                0.0             3.0        0.0   \n",
       "3           0.0         4.0                4.0             4.0        0.0   \n",
       "4           0.0         5.0                5.0             5.0        0.0   \n",
       "..          ...         ...                ...             ...        ...   \n",
       "119        19.0         4.0              162.0           120.0        0.0   \n",
       "120        19.0         5.0              164.0           121.0        0.0   \n",
       "121        19.0         6.0              165.0           122.0        0.0   \n",
       "122         NaN         NaN                NaN             NaN        NaN   \n",
       "123         NaN         NaN                NaN             NaN        NaN   \n",
       "\n",
       "     CSK_over_no  CSK_ball_no  CSK_runs_total_end  CSK_delivery_no  CSK_wicket  \n",
       "0              0            1                   0                1           0  \n",
       "1              0            2                   1                2           0  \n",
       "2              0            3                   2                3           0  \n",
       "3              0            4                   3                4           0  \n",
       "4              0            5                   3                5           0  \n",
       "..           ...          ...                 ...              ...         ...  \n",
       "119           19            1                 159              120           0  \n",
       "120           19            2                 159              121           0  \n",
       "121           19            3                 159              122           0  \n",
       "122           19            4                 165              123           0  \n",
       "123           19            5                 169              124           0  \n",
       "\n",
       "[124 rows x 10 columns]"
      ]
     },
     "execution_count": 37,
     "metadata": {},
     "output_type": "execute_result"
    }
   ],
   "source": [
    "match_df = pd.read_excel('ipl_data/MIvCSK.xlsx')\n",
    "print(match_df.columns.tolist())\n",
    "match_df"
   ]
  },
  {
   "cell_type": "markdown",
   "metadata": {},
   "source": [
    "#### Column meaning\n",
    "- A Twenty20 game refers to 20 over, equal to 120 deliveries. \n",
    "- In the dataframe \"ball_no\" refers to the ball of the over in question, which is referred to by \"over_no\". \n",
    "- \"delivery_no\" refers to its position in the inning as a whole. \n",
    "\n",
    "There were 122 deliveries in the Mumbai innings, while there were 124 deliveries in the Chennai innings, despite only 19.5 overs being completed (Chennai won, i.e. surpassed the Mumbai score, with one ball to spare). \n",
    "\n",
    "This arises because some balls delivered do not count- these could be either \"wides\" - called when the umpire decides that the ball was delivered so far away from the batsman that he had no reasonable chance of hitting it - or \"no balls\", called when the bowler released the ball too close to the batsman (there is a line which the bowler must not overstep).\n",
    "\n"
   ]
  },
  {
   "cell_type": "code",
   "execution_count": 38,
   "metadata": {},
   "outputs": [
    {
     "data": {
      "text/plain": [
       "[<matplotlib.lines.Line2D at 0x16ad4f760>]"
      ]
     },
     "execution_count": 38,
     "metadata": {},
     "output_type": "execute_result"
    },
    {
     "data": {
      "image/png": "[encoded data removed]",
      "text/plain": [
       "<Figure size 432x288 with 1 Axes>"
      ]
     },
     "metadata": {
      "needs_background": "light"
     },
     "output_type": "display_data"
    }
   ],
   "source": [
    "## plotting the deliveries on X-axis and the runs scored by Mumbai on Y-axis\n",
    "plt.plot(match_df['MI_delivery_no'], match_df['MI_runs_total_end'])"
   ]
  },
  {
   "cell_type": "markdown",
   "metadata": {},
   "source": [
    "#### Adding wickets to above plot"
   ]
  },
  {
   "cell_type": "code",
   "execution_count": 39,
   "metadata": {},
   "outputs": [
    {
     "data": {
      "text/html": [
       "<div>\n",
       "<style scoped>\n",
       "    .dataframe tbody tr th:only-of-type {\n",
       "        vertical-align: middle;\n",
       "    }\n",
       "\n",
       "    .dataframe tbody tr th {\n",
       "        vertical-align: top;\n",
       "    }\n",
       "\n",
       "    .dataframe thead th {\n",
       "        text-align: right;\n",
       "    }\n",
       "</style>\n",
       "<table border=\"1\" class=\"dataframe\">\n",
       "  <thead>\n",
       "    <tr style=\"text-align: right;\">\n",
       "      <th></th>\n",
       "      <th>MI_over_no</th>\n",
       "      <th>MI_ball_no</th>\n",
       "      <th>MI_runs_total_end</th>\n",
       "      <th>MI_delivery_no</th>\n",
       "      <th>MI_wicket</th>\n",
       "      <th>CSK_over_no</th>\n",
       "      <th>CSK_ball_no</th>\n",
       "      <th>CSK_runs_total_end</th>\n",
       "      <th>CSK_delivery_no</th>\n",
       "      <th>CSK_wicket</th>\n",
       "    </tr>\n",
       "  </thead>\n",
       "  <tbody>\n",
       "    <tr>\n",
       "      <th>12</th>\n",
       "      <td>2.0</td>\n",
       "      <td>1.0</td>\n",
       "      <td>7.0</td>\n",
       "      <td>13.0</td>\n",
       "      <td>1.0</td>\n",
       "      <td>2</td>\n",
       "      <td>1</td>\n",
       "      <td>16</td>\n",
       "      <td>13</td>\n",
       "      <td>0</td>\n",
       "    </tr>\n",
       "    <tr>\n",
       "      <th>23</th>\n",
       "      <td>3.0</td>\n",
       "      <td>6.0</td>\n",
       "      <td>20.0</td>\n",
       "      <td>24.0</td>\n",
       "      <td>1.0</td>\n",
       "      <td>3</td>\n",
       "      <td>6</td>\n",
       "      <td>31</td>\n",
       "      <td>24</td>\n",
       "      <td>0</td>\n",
       "    </tr>\n",
       "    <tr>\n",
       "      <th>75</th>\n",
       "      <td>12.0</td>\n",
       "      <td>3.0</td>\n",
       "      <td>98.0</td>\n",
       "      <td>76.0</td>\n",
       "      <td>1.0</td>\n",
       "      <td>12</td>\n",
       "      <td>2</td>\n",
       "      <td>76</td>\n",
       "      <td>76</td>\n",
       "      <td>0</td>\n",
       "    </tr>\n",
       "    <tr>\n",
       "      <th>88</th>\n",
       "      <td>14.0</td>\n",
       "      <td>4.0</td>\n",
       "      <td>113.0</td>\n",
       "      <td>89.0</td>\n",
       "      <td>1.0</td>\n",
       "      <td>14</td>\n",
       "      <td>3</td>\n",
       "      <td>103</td>\n",
       "      <td>89</td>\n",
       "      <td>0</td>\n",
       "    </tr>\n",
       "  </tbody>\n",
       "</table>\n",
       "</div>"
      ],
      "text/plain": [
       "    MI_over_no  MI_ball_no  MI_runs_total_end  MI_delivery_no  MI_wicket  \\\n",
       "12         2.0         1.0                7.0            13.0        1.0   \n",
       "23         3.0         6.0               20.0            24.0        1.0   \n",
       "75        12.0         3.0               98.0            76.0        1.0   \n",
       "88        14.0         4.0              113.0            89.0        1.0   \n",
       "\n",
       "    CSK_over_no  CSK_ball_no  CSK_runs_total_end  CSK_delivery_no  CSK_wicket  \n",
       "12            2            1                  16               13           0  \n",
       "23            3            6                  31               24           0  \n",
       "75           12            2                  76               76           0  \n",
       "88           14            3                 103               89           0  "
      ]
     },
     "execution_count": 39,
     "metadata": {},
     "output_type": "execute_result"
    }
   ],
   "source": [
    "MI_wkt = match_df[match_df['MI_wicket'] > 0]\n",
    "CSK_wkt = match_df[match_df['CSK_wicket'] > 0]\n",
    "MI_wkt"
   ]
  },
  {
   "cell_type": "code",
   "execution_count": 42,
   "metadata": {},
   "outputs": [
    {
     "data": {
      "text/html": [
       "<div>\n",
       "<style scoped>\n",
       "    .dataframe tbody tr th:only-of-type {\n",
       "        vertical-align: middle;\n",
       "    }\n",
       "\n",
       "    .dataframe tbody tr th {\n",
       "        vertical-align: top;\n",
       "    }\n",
       "\n",
       "    .dataframe thead th {\n",
       "        text-align: right;\n",
       "    }\n",
       "</style>\n",
       "<table border=\"1\" class=\"dataframe\">\n",
       "  <thead>\n",
       "    <tr style=\"text-align: right;\">\n",
       "      <th></th>\n",
       "      <th>MI_over_no</th>\n",
       "      <th>MI_ball_no</th>\n",
       "      <th>MI_runs_total_end</th>\n",
       "      <th>MI_delivery_no</th>\n",
       "      <th>MI_wicket</th>\n",
       "      <th>CSK_over_no</th>\n",
       "      <th>CSK_ball_no</th>\n",
       "      <th>CSK_runs_total_end</th>\n",
       "      <th>CSK_delivery_no</th>\n",
       "      <th>CSK_wicket</th>\n",
       "    </tr>\n",
       "  </thead>\n",
       "  <tbody>\n",
       "    <tr>\n",
       "      <th>21</th>\n",
       "      <td>3.0</td>\n",
       "      <td>4.0</td>\n",
       "      <td>20.0</td>\n",
       "      <td>22.0</td>\n",
       "      <td>0.0</td>\n",
       "      <td>3</td>\n",
       "      <td>4</td>\n",
       "      <td>27</td>\n",
       "      <td>22</td>\n",
       "      <td>1</td>\n",
       "    </tr>\n",
       "    <tr>\n",
       "      <th>35</th>\n",
       "      <td>5.0</td>\n",
       "      <td>5.0</td>\n",
       "      <td>33.0</td>\n",
       "      <td>36.0</td>\n",
       "      <td>0.0</td>\n",
       "      <td>5</td>\n",
       "      <td>6</td>\n",
       "      <td>42</td>\n",
       "      <td>36</td>\n",
       "      <td>1</td>\n",
       "    </tr>\n",
       "    <tr>\n",
       "      <th>38</th>\n",
       "      <td>6.0</td>\n",
       "      <td>2.0</td>\n",
       "      <td>40.0</td>\n",
       "      <td>39.0</td>\n",
       "      <td>0.0</td>\n",
       "      <td>6</td>\n",
       "      <td>3</td>\n",
       "      <td>42</td>\n",
       "      <td>39</td>\n",
       "      <td>1</td>\n",
       "    </tr>\n",
       "    <tr>\n",
       "      <th>51</th>\n",
       "      <td>8.0</td>\n",
       "      <td>3.0</td>\n",
       "      <td>60.0</td>\n",
       "      <td>52.0</td>\n",
       "      <td>0.0</td>\n",
       "      <td>8</td>\n",
       "      <td>3</td>\n",
       "      <td>51</td>\n",
       "      <td>52</td>\n",
       "      <td>1</td>\n",
       "    </tr>\n",
       "    <tr>\n",
       "      <th>73</th>\n",
       "      <td>12.0</td>\n",
       "      <td>1.0</td>\n",
       "      <td>98.0</td>\n",
       "      <td>74.0</td>\n",
       "      <td>0.0</td>\n",
       "      <td>11</td>\n",
       "      <td>6</td>\n",
       "      <td>75</td>\n",
       "      <td>74</td>\n",
       "      <td>1</td>\n",
       "    </tr>\n",
       "    <tr>\n",
       "      <th>77</th>\n",
       "      <td>12.0</td>\n",
       "      <td>5.0</td>\n",
       "      <td>100.0</td>\n",
       "      <td>78.0</td>\n",
       "      <td>0.0</td>\n",
       "      <td>12</td>\n",
       "      <td>4</td>\n",
       "      <td>83</td>\n",
       "      <td>78</td>\n",
       "      <td>1</td>\n",
       "    </tr>\n",
       "    <tr>\n",
       "      <th>79</th>\n",
       "      <td>13.0</td>\n",
       "      <td>1.0</td>\n",
       "      <td>105.0</td>\n",
       "      <td>80.0</td>\n",
       "      <td>0.0</td>\n",
       "      <td>12</td>\n",
       "      <td>6</td>\n",
       "      <td>84</td>\n",
       "      <td>80</td>\n",
       "      <td>1</td>\n",
       "    </tr>\n",
       "    <tr>\n",
       "      <th>91</th>\n",
       "      <td>15.0</td>\n",
       "      <td>1.0</td>\n",
       "      <td>118.0</td>\n",
       "      <td>92.0</td>\n",
       "      <td>0.0</td>\n",
       "      <td>14</td>\n",
       "      <td>6</td>\n",
       "      <td>105</td>\n",
       "      <td>92</td>\n",
       "      <td>1</td>\n",
       "    </tr>\n",
       "    <tr>\n",
       "      <th>103</th>\n",
       "      <td>16.0</td>\n",
       "      <td>7.0</td>\n",
       "      <td>140.0</td>\n",
       "      <td>104.0</td>\n",
       "      <td>0.0</td>\n",
       "      <td>16</td>\n",
       "      <td>5</td>\n",
       "      <td>118</td>\n",
       "      <td>104</td>\n",
       "      <td>1</td>\n",
       "    </tr>\n",
       "    <tr>\n",
       "      <th>118</th>\n",
       "      <td>19.0</td>\n",
       "      <td>3.0</td>\n",
       "      <td>162.0</td>\n",
       "      <td>119.0</td>\n",
       "      <td>0.0</td>\n",
       "      <td>18</td>\n",
       "      <td>6</td>\n",
       "      <td>159</td>\n",
       "      <td>119</td>\n",
       "      <td>1</td>\n",
       "    </tr>\n",
       "  </tbody>\n",
       "</table>\n",
       "</div>"
      ],
      "text/plain": [
       "     MI_over_no  MI_ball_no  MI_runs_total_end  MI_delivery_no  MI_wicket  \\\n",
       "21          3.0         4.0               20.0            22.0        0.0   \n",
       "35          5.0         5.0               33.0            36.0        0.0   \n",
       "38          6.0         2.0               40.0            39.0        0.0   \n",
       "51          8.0         3.0               60.0            52.0        0.0   \n",
       "73         12.0         1.0               98.0            74.0        0.0   \n",
       "77         12.0         5.0              100.0            78.0        0.0   \n",
       "79         13.0         1.0              105.0            80.0        0.0   \n",
       "91         15.0         1.0              118.0            92.0        0.0   \n",
       "103        16.0         7.0              140.0           104.0        0.0   \n",
       "118        19.0         3.0              162.0           119.0        0.0   \n",
       "\n",
       "     CSK_over_no  CSK_ball_no  CSK_runs_total_end  CSK_delivery_no  CSK_wicket  \n",
       "21             3            4                  27               22           1  \n",
       "35             5            6                  42               36           1  \n",
       "38             6            3                  42               39           1  \n",
       "51             8            3                  51               52           1  \n",
       "73            11            6                  75               74           1  \n",
       "77            12            4                  83               78           1  \n",
       "79            12            6                  84               80           1  \n",
       "91            14            6                 105               92           1  \n",
       "103           16            5                 118              104           1  \n",
       "118           18            6                 159              119           1  "
      ]
     },
     "execution_count": 42,
     "metadata": {},
     "output_type": "execute_result"
    }
   ],
   "source": [
    "CSK_wkt"
   ]
  },
  {
   "cell_type": "code",
   "execution_count": 22,
   "metadata": {},
   "outputs": [
    {
     "data": {
      "text/plain": [
       "[<matplotlib.lines.Line2D at 0x16a98a3d0>,\n",
       " <matplotlib.lines.Line2D at 0x16a98a7f0>]"
      ]
     },
     "execution_count": 22,
     "metadata": {},
     "output_type": "execute_result"
    },
    {
     "data": {
      "image/png": "[encoded data removed]",
      "text/plain": [
       "<Figure size 432x288 with 1 Axes>"
      ]
     },
     "metadata": {
      "needs_background": "light"
     },
     "output_type": "display_data"
    }
   ],
   "source": [
    "## adding MI wickets to the plot -  4 in total - depicted by blue circles (bo)\n",
    "plt.plot(match_df['MI_delivery_no'],match_df['MI_runs_total_end'], MI_wkt['MI_wicket'], 'bo')\n",
    "\n",
    "\n"
   ]
  },
  {
   "cell_type": "markdown",
   "metadata": {},
   "source": [
    "## Plotting both teams scores together"
   ]
  },
  {
   "cell_type": "code",
   "execution_count": 17,
   "metadata": {},
   "outputs": [
    {
     "data": {
      "text/plain": [
       "<matplotlib.legend.Legend at 0x16818a850>"
      ]
     },
     "execution_count": 17,
     "metadata": {},
     "output_type": "execute_result"
    },
    {
     "data": {
      "image/png": "[encoded data removed]",
      "text/plain": [
       "<Figure size 432x288 with 1 Axes>"
      ]
     },
     "metadata": {
      "needs_background": "light"
     },
     "output_type": "display_data"
    }
   ],
   "source": [
    "## plotting MI runs and wkts by deliveries\n",
    "plt.plot(match_df['CSK_delivery_no'], \n",
    "         match_df['MI_runs_total_end'], \n",
    "         MI_wkt['MI_runs_total_end'], 'bo')\n",
    "\n",
    "## plotting CSK runs and wkts by deliveries\n",
    "plt.plot(match_df['CSK_delivery_no'], \n",
    "         match_df['CSK_runs_total_end'], \n",
    "         CSK_wkt['CSK_runs_total_end'], 'ro')\n",
    "\n",
    "plt.legend(['MI', 'MI wickets', 'CSK', 'CSK wickets'])\n"
   ]
  },
  {
   "cell_type": "code",
   "execution_count": null,
   "metadata": {},
   "outputs": [],
   "source": []
  }
 ],
 "metadata": {
  "kernelspec": {
   "display_name": "Python 3 (ipykernel)",
   "language": "python",
   "name": "python3"
  },
  "language_info": {
   "codemirror_mode": {
    "name": "ipython",
    "version": 3
   },
   "file_extension": ".py",
   "mimetype": "text/x-python",
   "name": "python",
   "nbconvert_exporter": "python",
   "pygments_lexer": "ipython3",
   "version": "3.9.10"
  },
  "toc": {
   "base_numbering": 1,
   "nav_menu": {},
   "number_sections": true,
   "sideBar": true,
   "skip_h1_title": false,
   "title_cell": "Table of Contents",
   "title_sidebar": "Contents",
   "toc_cell": false,
   "toc_position": {},
   "toc_section_display": true,
   "toc_window_display": true
  }
 },
 "nbformat": 4,
 "nbformat_minor": 4
}
